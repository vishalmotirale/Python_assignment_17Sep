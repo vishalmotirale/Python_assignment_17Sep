{
 "cells": [
  {
   "cell_type": "markdown",
   "id": "bcc42a2c-54f4-441b-b6f1-4c4aea51a031",
   "metadata": {},
   "source": [
    "### For Loop"
   ]
  },
  {
   "cell_type": "code",
   "execution_count": 2,
   "id": "05d22148-8687-4550-954f-a858d4f11e7e",
   "metadata": {},
   "outputs": [
    {
     "name": "stdout",
     "output_type": "stream",
     "text": [
      "1\n",
      "2\n",
      "3\n",
      "4\n",
      "5\n",
      "6\n",
      "7\n",
      "8\n",
      "9\n",
      "10\n"
     ]
    }
   ],
   "source": [
    "for i in range(1,11):\n",
    "    print(i)"
   ]
  },
  {
   "cell_type": "markdown",
   "id": "ff5880c7-9b02-4449-9f7c-49d0d9f11a07",
   "metadata": {},
   "source": [
    "For loop:\n",
    "the for loop is used when we know the number of iteration in advance or when we want to iterate over the elements of an iterable.the loop variable takes each value in iterable for interation and the code block inside the loop  executed.\n",
    "\n",
    "\n",
    "While loop:\n",
    "the while loop is used when we don't know the numer of iteration in advance and is determined by a certain condition. the loop continues executing the code block as long as the specific condition 'True'.\n",
    "for while loop it's important to ensure that the condition becomes 'False' to avaid as infinite loop."
   ]
  },
  {
   "cell_type": "code",
   "execution_count": 14,
   "id": "cf9eb6e7-295f-47b1-b118-bb8535baa704",
   "metadata": {},
   "outputs": [
    {
     "name": "stdout",
     "output_type": "stream",
     "text": [
      "sum of 100 number's is 5050\n"
     ]
    }
   ],
   "source": [
    "n = 0\n",
    "for i in range(1,101):\n",
    "    n += i\n",
    "print(\"sum of 100 number's is\",n)\n",
    "    "
   ]
  },
  {
   "cell_type": "code",
   "execution_count": 16,
   "id": "104dbad7-31b8-4104-9849-3030ff4bbbcc",
   "metadata": {},
   "outputs": [
    {
     "name": "stdout",
     "output_type": "stream",
     "text": [
      "1\n",
      "2\n",
      "3\n",
      "45\n",
      "6\n"
     ]
    }
   ],
   "source": [
    "l = [1,2,3,45,6,]\n",
    "for i in l:\n",
    "    print(i)"
   ]
  },
  {
   "cell_type": "code",
   "execution_count": 18,
   "id": "97876f44-94e1-401e-ad8c-48104f4aba89",
   "metadata": {},
   "outputs": [
    {
     "name": "stdout",
     "output_type": "stream",
     "text": [
      "product of element in list  is 30300\n"
     ]
    }
   ],
   "source": [
    "l = [1,2,3,45,6,]\n",
    "for i in l:\n",
    "    i *= n\n",
    "\n",
    "print(\"product of element in list  is\", i)"
   ]
  },
  {
   "cell_type": "code",
   "execution_count": 46,
   "id": "620260fe-8e23-4189-b635-993729b8d4b2",
   "metadata": {},
   "outputs": [
    {
     "name": "stdout",
     "output_type": "stream",
     "text": [
      "[2, 4, 6, 8, 10, 12, 14, 16, 18, 20]\n"
     ]
    }
   ],
   "source": [
    "l = []\n",
    "for i in range(1,21):\n",
    "    if i%2 == 0:\n",
    "        l.append(i)\n",
    "print(l)"
   ]
  },
  {
   "cell_type": "code",
   "execution_count": 58,
   "id": "54eefcfa-1e80-4504-b811-e80d61311666",
   "metadata": {},
   "outputs": [
    {
     "name": "stdin",
     "output_type": "stream",
     "text": [
      " 5\n"
     ]
    },
    {
     "name": "stdout",
     "output_type": "stream",
     "text": [
      "factorial of 5 is 120\n"
     ]
    }
   ],
   "source": [
    "m = int(input())\n",
    "factorial = 1\n",
    "for i in range(1,m+1):\n",
    "    factorial *= i\n",
    "print(f\"factorial of {m} is\",factorial)"
   ]
  },
  {
   "cell_type": "code",
   "execution_count": 59,
   "id": "99874f93-6336-49e5-9b96-71edbe9c2630",
   "metadata": {},
   "outputs": [
    {
     "name": "stdout",
     "output_type": "stream",
     "text": [
      "P\n",
      "w\n",
      "s\n",
      "k\n",
      "i\n",
      "l\n",
      "l\n",
      "s\n"
     ]
    }
   ],
   "source": [
    "string = \"Pwskills\"\n",
    "\n",
    "for i in string:\n",
    "    print(i)"
   ]
  },
  {
   "cell_type": "code",
   "execution_count": 72,
   "id": "34b6379f-264b-4603-ad06-8b974cd203cc",
   "metadata": {},
   "outputs": [
    {
     "name": "stdout",
     "output_type": "stream",
     "text": [
      "largest number in list is 20\n"
     ]
    }
   ],
   "source": [
    "l = [2, 4, 6, 8, 10, 12, 14, 16, 18, 20]\n",
    "largest = l[0]\n",
    "for i in l:\n",
    "    if i > largest:\n",
    "        largest = i\n",
    "print(\"largest number in list is\" ,largest)"
   ]
  },
  {
   "cell_type": "code",
   "execution_count": 33,
   "id": "fcbf2f55-5ffb-4a7c-a000-4ec302aeb208",
   "metadata": {},
   "outputs": [
    {
     "name": "stdout",
     "output_type": "stream",
     "text": [
      "0 1 1 2 3 5 8 13 21 34 55 89 "
     ]
    }
   ],
   "source": [
    "fib_num = [0,1]\n",
    "limit = 100\n",
    "while fib_num[-1] + fib_num[-2] <= limit:\n",
    "    fib_num.append(fib_num[-1] + fib_num[-2])\n",
    "for number in fib_num:\n",
    "    print(number,end =\" \")"
   ]
  },
  {
   "cell_type": "code",
   "execution_count": 27,
   "id": "99e7c5fd-c6ed-48b7-a189-4d709b03887e",
   "metadata": {},
   "outputs": [
    {
     "name": "stdout",
     "output_type": "stream",
     "text": [
      "3\n"
     ]
    }
   ],
   "source": [
    "s2 = \"Hello world\"\n",
    "vowels = \"aeiouAEIOU\"\n",
    "count = 0\n",
    "for i in s2:\n",
    "    if i in vowels:\n",
    "        count += 1\n",
    "print(count)"
   ]
  },
  {
   "cell_type": "code",
   "execution_count": 30,
   "id": "c22bb50b-7a80-4b0d-9d60-63ab52f78ad8",
   "metadata": {},
   "outputs": [
    {
     "name": "stdout",
     "output_type": "stream",
     "text": [
      "12 x 1 = 12\n",
      "12 x 2 = 24\n",
      "12 x 3 = 36\n",
      "12 x 4 = 48\n",
      "12 x 5 = 60\n",
      "12 x 6 = 72\n",
      "12 x 7 = 84\n",
      "12 x 8 = 96\n",
      "12 x 9 = 108\n",
      "12 x 10 = 120\n"
     ]
    }
   ],
   "source": [
    "n = 12\n",
    "for i in range(1,11):\n",
    "    print(n,\"x\",i ,\"=\",n*i)"
   ]
  },
  {
   "cell_type": "code",
   "execution_count": 42,
   "id": "8b8b56c3-5266-4839-bc21-4b65e7f62286",
   "metadata": {},
   "outputs": [
    {
     "name": "stdout",
     "output_type": "stream",
     "text": [
      "[20, 18, 16, 14, 12, 10, 8, 6, 4, 2]\n"
     ]
    }
   ],
   "source": [
    "l1 = [2, 4, 6, 8, 10, 12, 14, 16, 18, 20]\n",
    "for i in l1:\n",
    "    rev = l1[::-1]\n",
    "print(rev)"
   ]
  },
  {
   "cell_type": "code",
   "execution_count": 48,
   "id": "d5670669-e4fb-43d5-bc1a-2069be48d83c",
   "metadata": {},
   "outputs": [
    {
     "name": "stdout",
     "output_type": "stream",
     "text": [
      "[2, 8]\n"
     ]
    }
   ],
   "source": [
    "l1 = [0, 1, 1, 2, 3, 5, 8, 13, 21, 34, 55, 89]\n",
    "l2 = [20, 18, 16, 14, 12, 10, 8, 6, 4, 2]\n",
    "com = []\n",
    "for i in l1:\n",
    "    if i in l2:\n",
    "        com.append(i)\n",
    "print(com)"
   ]
  },
  {
   "cell_type": "code",
   "execution_count": 60,
   "id": "09c2a352-0372-43cc-9138-b78000511a63",
   "metadata": {},
   "outputs": [
    {
     "name": "stdout",
     "output_type": "stream",
     "text": [
      "key: name, value: vish\n",
      "key: course, value: datascience\n",
      "key: education, value: master's\n"
     ]
    }
   ],
   "source": [
    "dict = {\"name\":\"vish\",\"course\":\"datascience\",\"education\":\"master's\"}\n",
    "for i,j in dict.items():\n",
    "    print(f\"key: {i}, value: {j}\")"
   ]
  },
  {
   "cell_type": "code",
   "execution_count": 68,
   "id": "88f6df03-a4a3-45b9-8612-5a6c8b7d7af4",
   "metadata": {},
   "outputs": [
    {
     "name": "stdout",
     "output_type": "stream",
     "text": [
      "GCD is: 6\n"
     ]
    }
   ],
   "source": [
    "a = 48\n",
    "b = 18\n",
    "for  i in range(1, min(a,b)+1):\n",
    "    if a%i == 0 and b%i == 0:\n",
    "        gcd = i\n",
    "\n",
    "print(\"GCD is:\",gcd)"
   ]
  },
  {
   "cell_type": "code",
   "execution_count": 74,
   "id": "ac13c9e4-5687-4cbc-a3e0-459e91e82ad6",
   "metadata": {},
   "outputs": [
    {
     "name": "stdout",
     "output_type": "stream",
     "text": [
      "it's palindrome string\n"
     ]
    }
   ],
   "source": [
    "s1 = \"A man, a plan, a canal, Panama!\"\n",
    "s2 = \" \".join(char.lower() for char in s1 if char.isalnum())\n",
    "if s2 == s2[::-1]:\n",
    "    print(\"it's palindrome string\")\n",
    "else:\n",
    "    print(\"it's not palindrome string\")    "
   ]
  },
  {
   "cell_type": "code",
   "execution_count": 75,
   "id": "9ee6f80c-c92f-4f85-a311-0bd4f5dee5b6",
   "metadata": {},
   "outputs": [
    {
     "data": {
      "text/plain": [
       "[20, 18, 16, 14, 12, 10, 8, 6, 4, 2]"
      ]
     },
     "execution_count": 75,
     "metadata": {},
     "output_type": "execute_result"
    }
   ],
   "source": [
    "l2"
   ]
  },
  {
   "cell_type": "code",
   "execution_count": 95,
   "id": "6e2ae994-a9f2-4e9b-9290-0722e2332111",
   "metadata": {},
   "outputs": [
    {
     "name": "stdout",
     "output_type": "stream",
     "text": [
      "[20, 8, 6, 4, 12, 10, 2]\n"
     ]
    }
   ],
   "source": [
    "l = [20, 8, 6, 4, 12, 10, 8, 6,4, 2]\n",
    "l_d = []\n",
    "for i in l:\n",
    "    if i not in l_d:\n",
    "        l_d.append(i)\n",
    "print(l_d)"
   ]
  },
  {
   "cell_type": "code",
   "execution_count": 109,
   "id": "3fa8cd6b-5881-4fb3-b8d2-ad7e05f8e120",
   "metadata": {},
   "outputs": [
    {
     "name": "stdout",
     "output_type": "stream",
     "text": [
      "{'a': 10, 'm': 2, 'n': 4, 'p': 2, 'l': 2, 'c': 1}\n"
     ]
    }
   ],
   "source": [
    "s1 = \"A man, a plan, a canal, Panama!\"\n",
    "s2 = ''.join(char.lower() for char in s1 if char.isalnum())\n",
    "char_count = {}\n",
    "for char in s2:\n",
    "    char_count[char] = s2.count(char)\n",
    "print(char_count)"
   ]
  },
  {
   "cell_type": "code",
   "execution_count": 115,
   "id": "7df62f02-3a35-4c40-a7ab-218ecaacc7b2",
   "metadata": {},
   "outputs": [
    {
     "name": "stdout",
     "output_type": "stream",
     "text": [
      "625\n"
     ]
    }
   ],
   "source": [
    "sum_odd = 0\n",
    "for i in range(1,51):\n",
    "    if i%2 !=0:\n",
    "        sum_odd += i\n",
    "print(sum_odd)"
   ]
  },
  {
   "cell_type": "code",
   "execution_count": 132,
   "id": "ba6de63c-b57e-43c3-a918-49e5ae98e126",
   "metadata": {},
   "outputs": [
    {
     "name": "stdin",
     "output_type": "stream",
     "text": [
      " 2024\n"
     ]
    },
    {
     "name": "stdout",
     "output_type": "stream",
     "text": [
      "2024 is leap year\n"
     ]
    }
   ],
   "source": [
    "year = int(input())\n",
    "is_leap_year = False\n",
    "for i in range(4,10000, 4):\n",
    "    if year == i:\n",
    "        is_leap_year =True\n",
    "        break\n",
    "if is_leap_year:\n",
    "    print(f\"{year} is leap year\")\n",
    "else:\n",
    "    print(f\"{year} is not leap year\")"
   ]
  },
  {
   "cell_type": "code",
   "execution_count": 145,
   "id": "a0023ccb-8443-4b4b-9ff0-0ea02a469a6f",
   "metadata": {},
   "outputs": [
    {
     "name": "stdin",
     "output_type": "stream",
     "text": [
      " 625\n"
     ]
    },
    {
     "name": "stdout",
     "output_type": "stream",
     "text": [
      "square root of 625.0 is 25.0\n"
     ]
    }
   ],
   "source": [
    "num = float(input())\n",
    "guess = num / 2\n",
    "iterations = 10\n",
    "for _ in range(iterations):\n",
    "    guess = 0.5*(guess+ num/guess)\n",
    "print(f\"square root of {num} is {guess}\")"
   ]
  },
  {
   "cell_type": "code",
   "execution_count": 150,
   "id": "40adcc0b-9399-4c44-897b-bfc1d2973fa7",
   "metadata": {},
   "outputs": [
    {
     "name": "stdout",
     "output_type": "stream",
     "text": [
      "the LCM of 48 and 18 is: 144\n"
     ]
    }
   ],
   "source": [
    "a = 48\n",
    "b = 18\n",
    "max_num = max(a,b)\n",
    "for  i in range(max_num, a*b+1 ,max_num):\n",
    "    if i%a == 0 and i%b == 0:\n",
    "        lcm = i\n",
    "        break\n",
    "\n",
    "print(f\"the LCM of {a} and {b} is: {lcm}\")"
   ]
  },
  {
   "cell_type": "markdown",
   "id": "71ff98c1-aa2d-4759-8fb1-663807690701",
   "metadata": {},
   "source": [
    "### if else"
   ]
  },
  {
   "cell_type": "code",
   "execution_count": 4,
   "id": "2b746fb4-cb42-4067-93d8-be0f0bb47e0c",
   "metadata": {},
   "outputs": [
    {
     "name": "stdin",
     "output_type": "stream",
     "text": [
      "Enter the number: 2\n"
     ]
    },
    {
     "name": "stdout",
     "output_type": "stream",
     "text": [
      "it is positive number\n"
     ]
    }
   ],
   "source": [
    "num = int(input(\"Enter the number:\"))\n",
    "if num == 0:\n",
    "    print(\"it is Zero\")\n",
    "elif num > 0:\n",
    "    print(\"it is positive number\")\n",
    "else:\n",
    "    print(\"it is negative number\")"
   ]
  },
  {
   "cell_type": "code",
   "execution_count": 8,
   "id": "2bd49000-837c-42c0-91eb-788e794903af",
   "metadata": {},
   "outputs": [
    {
     "name": "stdin",
     "output_type": "stream",
     "text": [
      "Enter the number: 13\n"
     ]
    },
    {
     "name": "stdout",
     "output_type": "stream",
     "text": [
      "it is odd number\n"
     ]
    }
   ],
   "source": [
    "num = int(input(\"Enter the number:\"))\n",
    "if num%2 == 0:\n",
    "    print(\"It is even number\")\n",
    "elif num%2 != 0:\n",
    "    print(\"it is odd number\")\n",
    "\n",
    "else:\n",
    "    print(\"Please enter valid input\")"
   ]
  },
  {
   "cell_type": "markdown",
   "id": "df3db180-f5a2-4284-9c87-4e01aa85bf02",
   "metadata": {},
   "source": [
    "Nested if-else statement in Python are used when you want check multiple conditions, and based on each condition, you want to perform different actions. Here is example."
   ]
  },
  {
   "cell_type": "code",
   "execution_count": 10,
   "id": "4634a964-c977-4f4e-8e90-21d411a95d1f",
   "metadata": {},
   "outputs": [
    {
     "name": "stdout",
     "output_type": "stream",
     "text": [
      "You are eligible to vote in Indian elections\n"
     ]
    }
   ],
   "source": [
    "age = 21\n",
    "nationality = \"Indian\"\n",
    "if age >= 18:\n",
    "    if nationality == \"Indian\":\n",
    "        print(\"You are eligible to vote in Indian elections\")\n",
    "    else:\n",
    "        print(\"You are not eligible for voting due to natinality.\")\n",
    "else:\n",
    "    print(\"You are not enough old to vote\")"
   ]
  },
  {
   "cell_type": "code",
   "execution_count": 11,
   "id": "70ef944b-dfa8-4fe7-a50d-575e7e59ef26",
   "metadata": {},
   "outputs": [
    {
     "name": "stdin",
     "output_type": "stream",
     "text": [
      "Enter 1st number: 125\n",
      "Enter 2nd number: 235\n",
      "Enter 3rd number: 142\n"
     ]
    },
    {
     "name": "stdout",
     "output_type": "stream",
     "text": [
      "235 is greater than 125 and 142\n"
     ]
    }
   ],
   "source": [
    "num1 = int(input(\"Enter 1st number:\"))\n",
    "num2 = int(input(\"Enter 2nd number:\"))\n",
    "num3 = int(input(\"Enter 3rd number:\"))\n",
    "if num1>num2 and num1>num3:\n",
    "    print(f\"{num1} is greater than {num2} and {num3}\")\n",
    "elif num2>num1 and num2>num3:\n",
    "    print(f\"{num2} is greater than {num1} and {num3}\")\n",
    "else:\n",
    "    print(f\"{num3} is greater than {num1} and {num3}\")"
   ]
  },
  {
   "cell_type": "code",
   "execution_count": 18,
   "id": "3fd28b22-4e8d-438e-a5ce-cd81decd77c1",
   "metadata": {},
   "outputs": [
    {
     "name": "stdin",
     "output_type": "stream",
     "text": [
      "Enter number: -14\n"
     ]
    },
    {
     "name": "stdout",
     "output_type": "stream",
     "text": [
      "the absolute value of -14 is 14\n"
     ]
    }
   ],
   "source": [
    "num = int(input(\"Enter number:\"))\n",
    "if num<0:\n",
    "    print(f\"the absolute value of {num} is {-num}\")\n",
    "\n",
    "else:\n",
    "    print(f\"the absolute value of {num} is {num}\")\n",
    "    "
   ]
  },
  {
   "cell_type": "code",
   "execution_count": 23,
   "id": "ffdb52a4-12e8-4323-84f0-48dba135b34e",
   "metadata": {},
   "outputs": [
    {
     "name": "stdin",
     "output_type": "stream",
     "text": [
      "entre the character: A\n"
     ]
    },
    {
     "name": "stdout",
     "output_type": "stream",
     "text": [
      "a  is vowel\n"
     ]
    }
   ],
   "source": [
    "char = str(input(\"entre the character:\"))\n",
    "vowel = \"aeiouAEIOU\"\n",
    "char = char.lower()\n",
    "if char in vowel:\n",
    "    print(char,\" is vowel\")\n",
    "\n",
    "else:\n",
    "    print(char,\"is consonant\")"
   ]
  },
  {
   "cell_type": "code",
   "execution_count": 26,
   "id": "b6f6f436-fbda-43b9-87c8-b6d39f7d68c9",
   "metadata": {},
   "outputs": [
    {
     "name": "stdin",
     "output_type": "stream",
     "text": [
      "Enter the age: 19.2\n"
     ]
    },
    {
     "name": "stdout",
     "output_type": "stream",
     "text": [
      "You are eligible for voting\n"
     ]
    }
   ],
   "source": [
    "age = float(input(\"Enter the age:\"))\n",
    "if age >= 18:\n",
    "    print(\"You are eligible for voting\")\n",
    "else:\n",
    "    print(\"You are not enough old to vote\")"
   ]
  },
  {
   "cell_type": "code",
   "execution_count": 31,
   "id": "134b5624-bb5a-4279-9b06-40ce579e15d0",
   "metadata": {},
   "outputs": [
    {
     "name": "stdin",
     "output_type": "stream",
     "text": [
      "Enter the purchase amount: 1250\n"
     ]
    },
    {
     "name": "stdout",
     "output_type": "stream",
     "text": [
      "Your Discounted amount is 125.0\n",
      "You have to pay 1125.0\n"
     ]
    }
   ],
   "source": [
    "Purchase_amount = float(input(\"Enter the purchase amount:\"))\n",
    "if Purchase_amount>=1000:\n",
    "    discount = 0.10\n",
    "elif Purchase_amount >= 500:\n",
    "    discount = 0.05\n",
    "else:\n",
    "    discount = 0\n",
    "Discounted_amount = Purchase_amount*discount\n",
    "payment = Purchase_amount-Discounted_amount\n",
    "print(\"Your Discounted amount is\", Discounted_amount)\n",
    "print(\"You have to pay\", payment)"
   ]
  },
  {
   "cell_type": "code",
   "execution_count": 36,
   "id": "ab76119d-80fc-424a-9da1-bb2dd33a5ed3",
   "metadata": {},
   "outputs": [
    {
     "name": "stdin",
     "output_type": "stream",
     "text": [
      "Enter the number: 125\n"
     ]
    },
    {
     "name": "stdout",
     "output_type": "stream",
     "text": [
      "Number is out of Range\n"
     ]
    }
   ],
   "source": [
    "upper_range = 100\n",
    "lower_range = 50\n",
    "num_R = float(input(\"Enter the number:\"))\n",
    "if lower_range<=num_R<=upper_range:\n",
    "    print(\"Number is within Range\")\n",
    "\n",
    "else:\n",
    "    print(\"Number is out of Range\")"
   ]
  },
  {
   "cell_type": "code",
   "execution_count": 37,
   "id": "d18b80cc-da82-478e-a35d-fdfdcef3bc2b",
   "metadata": {},
   "outputs": [
    {
     "name": "stdin",
     "output_type": "stream",
     "text": [
      "Enter the student's score:  75\n"
     ]
    },
    {
     "name": "stdout",
     "output_type": "stream",
     "text": [
      "C\n"
     ]
    }
   ],
   "source": [
    "score = float(input(\"Enter the student's score: \"))\n",
    "A_score = 90\n",
    "B_score = 80\n",
    "C_score = 70\n",
    "D_score = 60\n",
    "\n",
    "if score >= A_score:\n",
    "    print('A')\n",
    "elif  score >= B_score:\n",
    "    print('B')\n",
    "elif score >= C_score:\n",
    "    print('C')\n",
    "elif score >= D_score:\n",
    "    print('D')\n",
    "else :\n",
    "    print('F')"
   ]
  },
  {
   "cell_type": "code",
   "execution_count": 39,
   "id": "0669925f-3f56-4760-b6ba-ca864c00eb92",
   "metadata": {},
   "outputs": [
    {
     "name": "stdin",
     "output_type": "stream",
     "text": [
      "Enter the string: vishal\n"
     ]
    },
    {
     "name": "stdout",
     "output_type": "stream",
     "text": [
      "String is non-empty\n"
     ]
    }
   ],
   "source": [
    "str1 = str(input(\"Enter the string:\"))\n",
    "if len(str1)>=1:\n",
    "    print(\"String is non-empty\")\n",
    "\n",
    "else:\n",
    "    print(\"String is empty\")"
   ]
  },
  {
   "cell_type": "code",
   "execution_count": 41,
   "id": "0b9645ce-add5-4262-9074-c1a0dd3c1185",
   "metadata": {},
   "outputs": [
    {
     "name": "stdin",
     "output_type": "stream",
     "text": [
      "Enter the side1: 120\n",
      "Enter the side2: 60\n",
      "Enter the side3: 60\n"
     ]
    },
    {
     "name": "stdout",
     "output_type": "stream",
     "text": [
      "It is ispsceles trinagle\n"
     ]
    }
   ],
   "source": [
    "side1 = int(input(\"Enter the side1:\"))\n",
    "side2 = int(input(\"Enter the side2:\"))\n",
    "side3 = int(input(\"Enter the side3:\"))\n",
    "if side1 == side2 == side3:\n",
    "    print(\"It is equilateral triangle\")\n",
    "elif side1 == side2 or side2==side3 or side3 == side1:\n",
    "    print(\"It is ispsceles trinagle\")\n",
    "\n",
    "else:\n",
    "    print(\"It is scalene triangle\")"
   ]
  },
  {
   "cell_type": "code",
   "execution_count": 47,
   "id": "6610de65-6cc7-4137-b94b-63fed4c0e686",
   "metadata": {},
   "outputs": [
    {
     "name": "stdin",
     "output_type": "stream",
     "text": [
      "Enter a year: 1999\n"
     ]
    },
    {
     "name": "stdout",
     "output_type": "stream",
     "text": [
      "It is not leap year\n"
     ]
    }
   ],
   "source": [
    "year = int(input(\"Enter a year:\"))\n",
    "if year in range(4,10000,4):\n",
    "    print(\"It is leap year\")\n",
    "\n",
    "else:\n",
    "    print(\"It is not leap year\")"
   ]
  },
  {
   "cell_type": "code",
   "execution_count": 62,
   "id": "bfbeb47a-1791-434e-af7b-381fea5f5929",
   "metadata": {},
   "outputs": [
    {
     "name": "stdin",
     "output_type": "stream",
     "text": [
      "enter a number with 1-7: 1\n"
     ]
    },
    {
     "name": "stdout",
     "output_type": "stream",
     "text": [
      "mon\n"
     ]
    }
   ],
   "source": [
    "day = input(\"enter a number with 1-7:\")\n",
    "week = [\"mon\",\"tue\",\"wed\",\"thu\",\"fri\",\"sat\",\"sun\"]\n",
    "day = int(day)\n",
    "if 1 <= day <= 7:\n",
    "    print(week[day-1])\n",
    "else:\n",
    "    print(\"Invalid input\")"
   ]
  },
  {
   "cell_type": "code",
   "execution_count": 65,
   "id": "7c5533bc-c504-4edd-b655-102bd3931ee3",
   "metadata": {},
   "outputs": [
    {
     "ename": "AssertionError",
     "evalue": "X should be negative but it is positive ",
     "output_type": "error",
     "traceback": [
      "\u001b[1;31m---------------------------------------------------------------------------\u001b[0m",
      "\u001b[1;31mAssertionError\u001b[0m                            Traceback (most recent call last)",
      "Cell \u001b[1;32mIn[65], line 6\u001b[0m\n\u001b[0;32m      4\u001b[0m     \u001b[38;5;28mprint\u001b[39m(\u001b[38;5;124m\"\u001b[39m\u001b[38;5;124mit is positive.\u001b[39m\u001b[38;5;124m\"\u001b[39m)\n\u001b[0;32m      5\u001b[0m \u001b[38;5;28;01melse\u001b[39;00m:\n\u001b[1;32m----> 6\u001b[0m     \u001b[38;5;28;01massert\u001b[39;00m \u001b[38;5;28;01mFalse\u001b[39;00m, \u001b[38;5;124m\"\u001b[39m\u001b[38;5;124mX should be negative but it is positive \u001b[39m\u001b[38;5;124m\"\u001b[39m\n",
      "\u001b[1;31mAssertionError\u001b[0m: X should be negative but it is positive "
     ]
    }
   ],
   "source": [
    "x = -2\n",
    "if x>= 0:\n",
    "    print(\"it is positive.\")\n",
    "else:\n",
    "    assert False, \"X should be negative but it is positive \""
   ]
  },
  {
   "cell_type": "code",
   "execution_count": 6,
   "id": "60486dbf-99ca-4c5a-8842-ecece9fc50a1",
   "metadata": {},
   "outputs": [
    {
     "name": "stdin",
     "output_type": "stream",
     "text": [
      "Enter your age: 62\n"
     ]
    },
    {
     "name": "stdout",
     "output_type": "stream",
     "text": [
      "You are eligible for senior citizen discount.\n"
     ]
    }
   ],
   "source": [
    "age = float(input(\"Enter your age:\"))\n",
    "if age >= 60:\n",
    "    print(\"You are eligible for senior citizen discount.\")\n",
    "elif age <= 0 :\n",
    "    print(\"please enter valid age\")\n",
    "else:\n",
    "    print(\"You are not eligible for discount.\")"
   ]
  },
  {
   "cell_type": "code",
   "execution_count": 20,
   "id": "92062686-be18-467f-9a18-3ec85931c511",
   "metadata": {},
   "outputs": [
    {
     "name": "stdin",
     "output_type": "stream",
     "text": [
      "Enter the character: v\n"
     ]
    },
    {
     "name": "stdout",
     "output_type": "stream",
     "text": [
      "The v is lowercase\n"
     ]
    }
   ],
   "source": [
    "character = input(\"Enter the character:\")\n",
    "if len(character) != 1:\n",
    "    print(\"Please enter exactly one character\")\n",
    "else:\n",
    "    for char in character:\n",
    "        if char.isupper():\n",
    "            print(f\"The {character} is uppercase\")\n",
    "        elif char.islower():\n",
    "            print(f\"The {character} is lowercase\")\n",
    "        else:\n",
    "            print(f\"The {character} is neither upper neither lower\")"
   ]
  },
  {
   "cell_type": "code",
   "execution_count": 23,
   "id": "f8fffc24-a2a9-462d-a4ae-2c8a90f6abd7",
   "metadata": {},
   "outputs": [
    {
     "name": "stdout",
     "output_type": "stream",
     "text": [
      "Quadratic Equation: ax^2+bx+c = 0\n"
     ]
    },
    {
     "name": "stdin",
     "output_type": "stream",
     "text": [
      "Enter the coeffiecient of x^2(a): 15\n",
      "Enter the coefficient of x(b): 21\n",
      "Enter the constant term (c) 3\n"
     ]
    },
    {
     "name": "stdout",
     "output_type": "stream",
     "text": [
      "Roots are real distinct.\n",
      "Root 1: -0.16148351928654966\n",
      "Root 2: -1.2385164807134503\n"
     ]
    }
   ],
   "source": [
    "import math\n",
    "print(\"Quadratic Equation: ax^2+bx+c = 0\")\n",
    "a = float(input(\"Enter the coeffiecient of x^2(a):\"))\n",
    "b = float(input(\"Enter the coefficient of x(b):\"))\n",
    "c = float(input(\"Enter the constant term (c)\"))\n",
    "\n",
    "discriminant = b**2-4*a*c\n",
    "if discriminant > 0:\n",
    "    root1 = (-b + math.sqrt(discriminant))/(2*a)\n",
    "    root2 = (-b - math.sqrt(discriminant))/(2*a)\n",
    "    print(\"Roots are real distinct.\")\n",
    "    print(\"Root 1:\",root1)\n",
    "    print(\"Root 2:\",root2)\n",
    "elif discriminant == 0:\n",
    "    root = -b/(2*a)\n",
    "    print(\"Roots are real and equal.\")\n",
    "    print(\"Root\",root)\n",
    "else:\n",
    "    real_part = -b/(2*a)\n",
    "    imaginary_part = math.sqrt(abs(discriminant)) / 2*a\n",
    "    print(\"Roots are complex and conjugate.\")\n",
    "    print(\"Root 1\", real_part, \"+\", imaginary_part,\"i\")\n",
    "    print(\"Root 2\", real_part,\"-\", imaginary_part,\"i\")"
   ]
  },
  {
   "cell_type": "code",
   "execution_count": 26,
   "id": "ed62a7d5-bc51-4aaf-a3ac-29f5e2b223fc",
   "metadata": {},
   "outputs": [
    {
     "name": "stdin",
     "output_type": "stream",
     "text": [
      "Enter the year: 2000\n"
     ]
    },
    {
     "name": "stdout",
     "output_type": "stream",
     "text": [
      "The 2000 is century year\n"
     ]
    }
   ],
   "source": [
    "year = int(input(\"Enter the year:\"))\n",
    "if year%100 == 0:\n",
    "    print(f\"The {year} is century year\")\n",
    "else:\n",
    "    print(f\"The {year} is not century year\")"
   ]
  },
  {
   "cell_type": "code",
   "execution_count": 33,
   "id": "6b960b59-8bfd-4e58-8940-870d647aae70",
   "metadata": {},
   "outputs": [
    {
     "name": "stdin",
     "output_type": "stream",
     "text": [
      "Enter the number: 12\n"
     ]
    },
    {
     "name": "stdout",
     "output_type": "stream",
     "text": [
      "12 is not perfect square\n"
     ]
    }
   ],
   "source": [
    "import math\n",
    "number = int(input(\"Enter the number:\"))\n",
    "square_root = math.sqrt(number)\n",
    "if square_root == int(square_root):\n",
    "    print(f\"{number} is perfect square\")\n",
    "else:\n",
    "    print(f\"{number} is not perfect square\")"
   ]
  },
  {
   "cell_type": "markdown",
   "id": "57e880ae-6e39-4756-9976-ca369a51b909",
   "metadata": {},
   "source": [
    "Continue statement:\n",
    "When \"continue\" statement is encountered within a loop, it immediately stops the current iteration of the loop and moves to the next iteration.\n",
    "it's often used when certain conditions need to be checked within a loop, and if a condition is met,the loop should proceed to the next iteration without executing the rest if the loop body."
   ]
  },
  {
   "cell_type": "markdown",
   "id": "c5bb8026-9ca9-437b-aeaf-853d8c967ab9",
   "metadata": {},
   "source": [
    "Break statement : When the \"break\" statement is encountered within a loop, it immediately terminates the loop and exits its execution, regardless of wheather the loop's condition has been fully satisfied or not.The purpose of \"break\" is to prematurely exit a loop based on a certain condition."
   ]
  },
  {
   "cell_type": "code",
   "execution_count": 34,
   "id": "363e633b-3950-41be-aa8f-244b9f115ed5",
   "metadata": {},
   "outputs": [
    {
     "name": "stdin",
     "output_type": "stream",
     "text": [
      "Enter the weight in KG: 48\n",
      "Enter the height in meters: 160\n"
     ]
    },
    {
     "name": "stdout",
     "output_type": "stream",
     "text": [
      "You are under weight\n"
     ]
    }
   ],
   "source": [
    "Weight = float(input(\"Enter the weight in KG:\"))\n",
    "Height = float(input(\"Enter the height in meters:\"))\n",
    "BMI = Weight/Height**2\n",
    "if BMI < 18.5:\n",
    "    print(\"You are under weight\")\n",
    "elif 18<=BMI<=24.9: \n",
    "    print(\"You are Normal\")\n",
    "elif 25<=BMI<=29.9:\n",
    "    print(\"You are Overweight\")"
   ]
  },
  {
   "cell_type": "code",
   "execution_count": 35,
   "id": "b0e7c49e-7fa3-4428-b443-58dfa0bc3a41",
   "metadata": {},
   "outputs": [
    {
     "name": "stdout",
     "output_type": "stream",
     "text": [
      "[2, 4, 6, 8, 10]\n"
     ]
    }
   ],
   "source": [
    "l1 = [1, 2, 3, 4, 5, 6, 7, 8, 9, 10]\n",
    "# Filter the even numbers from list\n",
    "def filter_fun(n):\n",
    "    if n%2 == 0:\n",
    "        return True\n",
    "    else:\n",
    "        return False\n",
    "\n",
    "filtered = list(filter(filter_fun,l1))\n",
    "print(filtered)"
   ]
  },
  {
   "cell_type": "code",
   "execution_count": 45,
   "id": "1247e684-1f65-4b94-87c2-be60e5e3018a",
   "metadata": {},
   "outputs": [
    {
     "name": "stdin",
     "output_type": "stream",
     "text": [
      "Enter the number: 4\n"
     ]
    },
    {
     "name": "stdout",
     "output_type": "stream",
     "text": [
      "This 4 is not Prime number\n"
     ]
    }
   ],
   "source": [
    "num = int(input(\"Enter the number:\"))\n",
    "for i in range(2, int(num**0.5)+1):\n",
    "    if num%i == 0:\n",
    "        print(f\"This {num} is not Prime number\")\n",
    "    else:\n",
    "        print(f\"This {num} is Prime number\")"
   ]
  },
  {
   "cell_type": "markdown",
   "id": "08126bc8-b8bd-4e96-b166-f49623f48005",
   "metadata": {},
   "source": [
    "## Map"
   ]
  },
  {
   "cell_type": "markdown",
   "id": "891d9d06-6955-442b-8033-9e9ff7687510",
   "metadata": {},
   "source": [
    "The \"map( )\" function in python is used to apply a specified function to each item in an iterable (i.e list, tuple or dictonary) and returns a new iterator that yields the results.This function is particularly useful when you want to tranform all the elements of an iterable in a single operation without using a loop.\n",
    "\n",
    "Sytax : map(function, iterable)"
   ]
  },
  {
   "cell_type": "code",
   "execution_count": 4,
   "id": "14c0c534-35a6-4183-b81b-46df00544202",
   "metadata": {},
   "outputs": [
    {
     "name": "stdout",
     "output_type": "stream",
     "text": [
      "[1, 25, 81, 9, 49, 16, 36, 4, 64]\n"
     ]
    }
   ],
   "source": [
    "def square(x):\n",
    "    return x**2\n",
    "l2 = [1,5,9,3,7,4,6,2,8]\n",
    "\n",
    "square_num = map(square,l2)\n",
    "squared_list = list(square_num)\n",
    "print(squared_list)"
   ]
  },
  {
   "cell_type": "markdown",
   "id": "034aa8dd-6227-4862-9db0-dd39882a24bc",
   "metadata": {},
   "source": [
    "The 'map( )' function and list comprehensions in python both serves similer purposes-- They both allow you to apply a fuction to each element of an iterable.However, they differ in syntax readability.\n",
    "\n",
    "Syntax :\n",
    "\n",
    "map(): map() might be less readable, especially when applying complex functions, as it separates the function from the iterable.\n",
    "List comprehension : List comprehensions are often considered more readable and Pythonic, especially for simple transformations, as they read like a natural language.\n",
    "\n",
    "list conprehension : list comprehensions are written inside square brackets and consist of an expression followed by a 'for' loop and optional 'if' conditions.\n",
    "\n",
    "Readability:\n",
    "\n",
    "map(): map() might be less readable, especially when applying complex functions, as it separates the function from the iterable.\n",
    "\n",
    "List comprehension: List comprehensions are often considered more readable and Pythonic, especially for simple transformations, as they read like a natural language."
   ]
  },
  {
   "cell_type": "code",
   "execution_count": 5,
   "id": "c281435f-b7a3-4e6f-ba03-73f1e36660cb",
   "metadata": {},
   "outputs": [
    {
     "name": "stdout",
     "output_type": "stream",
     "text": [
      "['VISHAL', 'PWSKILLS', 'DATASCIENCE']\n"
     ]
    }
   ],
   "source": [
    "l1= [\"vishal\",\"pwskills\",\"datascience\"]\n",
    "def uppercase(x):\n",
    "    return x.upper()\n",
    "\n",
    "upper = map(uppercase,l1)\n",
    "upper_list = list(upper)\n",
    "print(upper_list)"
   ]
  },
  {
   "cell_type": "code",
   "execution_count": 7,
   "id": "2532f4a5-a5d0-425b-8c7b-a2a77a0393f4",
   "metadata": {},
   "outputs": [
    {
     "name": "stdout",
     "output_type": "stream",
     "text": [
      "[6, 8, 11]\n"
     ]
    }
   ],
   "source": [
    "l1= [\"vishal\",\"pwskills\",\"datascience\"]\n",
    "def length(x):\n",
    "    return len(x)\n",
    "\n",
    "length_ = map(length,l1)\n",
    "length_list = list(length_)\n",
    "print(length_list)"
   ]
  },
  {
   "cell_type": "code",
   "execution_count": 9,
   "id": "e59f0c0b-c766-43a4-9af4-0f905d609c0b",
   "metadata": {},
   "outputs": [
    {
     "name": "stdout",
     "output_type": "stream",
     "text": [
      "[7, 9, 11, 13, 15]\n"
     ]
    }
   ],
   "source": [
    "def add_elements(x, y):\n",
    "    return x + y\n",
    "    \n",
    "lt1 = [1, 2, 3, 4, 5]\n",
    "lt2 = [6, 7, 8, 9, 10]\n",
    "result = map(add_elements, lt1, lt2)\n",
    "result_list = list(result)\n",
    "print(result_list) "
   ]
  },
  {
   "cell_type": "code",
   "execution_count": 10,
   "id": "48cb395a-34e1-48b2-9468-d1a47e61d69b",
   "metadata": {},
   "outputs": [
    {
     "name": "stdout",
     "output_type": "stream",
     "text": [
      "[42.8, 44.6, 46.4, 48.2, 50.0]\n"
     ]
    }
   ],
   "source": [
    "def temperature(x):\n",
    "    return x*(9/5)+32\n",
    "\n",
    "lt2 = [6, 7, 8, 9, 10]\n",
    "\n",
    "temper = map(temperature , lt2)\n",
    "fahrenheit = list(temper)\n",
    "print(fahrenheit)"
   ]
  },
  {
   "cell_type": "code",
   "execution_count": 1,
   "id": "fd263727-aef8-4c7e-8ee9-fbc99a424e59",
   "metadata": {},
   "outputs": [
    {
     "name": "stdout",
     "output_type": "stream",
     "text": [
      "[43, 45, 46, 48, 50]\n"
     ]
    }
   ],
   "source": [
    "def round_up(x):\n",
    "    return round(x)\n",
    "lr = [42.8, 44.6, 46.4, 48.2, 50.0]\n",
    "round_ = map(round_up,lr)\n",
    "roundup_list = list(round_)\n",
    "print(roundup_list)"
   ]
  },
  {
   "cell_type": "markdown",
   "id": "c84670a1-94d1-4c8d-91ab-a60f73543eb9",
   "metadata": {},
   "source": [
    "## Reduce"
   ]
  },
  {
   "cell_type": "markdown",
   "id": "174ecce9-21f3-4fa6-bf54-5ebfe874833b",
   "metadata": {},
   "source": [
    "The 'reduce( )' function in python is used to apply a function of two arguments cumulatively to the itmes of an iterable, from left to right, so as to reduce the iterable to a single value.It's part of the 'functools' module, so you need to import it from there. "
   ]
  },
  {
   "cell_type": "code",
   "execution_count": 3,
   "id": "ae425419-390c-407d-aca9-86fdf9f4eb43",
   "metadata": {},
   "outputs": [
    {
     "name": "stdout",
     "output_type": "stream",
     "text": [
      "15\n"
     ]
    }
   ],
   "source": [
    "from functools import reduce\n",
    "num = [1,2,3,4,5]\n",
    "sum_num = reduce(lambda x,y: x+y, num)\n",
    "print(sum_num)"
   ]
  },
  {
   "cell_type": "code",
   "execution_count": 5,
   "id": "0b6f5e89-8f8e-48c6-a45c-c30bf0295626",
   "metadata": {},
   "outputs": [
    {
     "name": "stdout",
     "output_type": "stream",
     "text": [
      "120\n"
     ]
    }
   ],
   "source": [
    "num1 = [1,2,3,4,5]\n",
    "prod_num = reduce(lambda x,y: x*y, num)\n",
    "print(prod_num)"
   ]
  },
  {
   "cell_type": "code",
   "execution_count": 6,
   "id": "cb3e407d-6001-4742-95e5-13af0b6dcb66",
   "metadata": {},
   "outputs": [
    {
     "name": "stdout",
     "output_type": "stream",
     "text": [
      "5\n"
     ]
    }
   ],
   "source": [
    "num1 = [1,2,3,4,5]\n",
    "max_num = reduce(lambda x,y: max(x,y), num)\n",
    "print(max_num)"
   ]
  },
  {
   "cell_type": "code",
   "execution_count": 8,
   "id": "2b26d81f-895a-4970-8c63-be646794ce0d",
   "metadata": {},
   "outputs": [
    {
     "name": "stdout",
     "output_type": "stream",
     "text": [
      "i am data scientist\n"
     ]
    }
   ],
   "source": [
    "l1= ['i',' ','am',' ','data',' ','scientist']\n",
    "conc_l1 = reduce(lambda x,y:x+y,l1)\n",
    "print(conc_l1)"
   ]
  },
  {
   "cell_type": "code",
   "execution_count": 13,
   "id": "2fdcad98-9417-4826-bb08-5f87dcf2d9bd",
   "metadata": {},
   "outputs": [
    {
     "name": "stdin",
     "output_type": "stream",
     "text": [
      "Enter the num 5\n"
     ]
    },
    {
     "name": "stdout",
     "output_type": "stream",
     "text": [
      "120\n"
     ]
    }
   ],
   "source": [
    "num = int(input(\"Enter the num\"))\n",
    "if num == 0 or num == 1:\n",
    "    print(1)\n",
    "else:\n",
    "    print(reduce(lambda x,y :x*y,range(1,num+1)))"
   ]
  },
  {
   "cell_type": "code",
   "execution_count": 15,
   "id": "3c0b4c3f-1a18-4d5b-9329-93cd68a0aeef",
   "metadata": {},
   "outputs": [
    {
     "name": "stdout",
     "output_type": "stream",
     "text": [
      "10\n"
     ]
    }
   ],
   "source": [
    "import math\n",
    "nums = [10,20,30]\n",
    "gcd = reduce(math.gcd, nums)\n",
    "print(gcd)"
   ]
  },
  {
   "cell_type": "code",
   "execution_count": 19,
   "id": "3d54d261-05f4-4803-a343-4a498461b198",
   "metadata": {},
   "outputs": [
    {
     "name": "stdout",
     "output_type": "stream",
     "text": [
      "25\n"
     ]
    }
   ],
   "source": [
    "number = 15937\n",
    "digits = [int(digit)  for digit in str(number)]\n",
    "sum_digit = reduce(lambda x,y: x+y,digits)\n",
    "print(sum_digit)"
   ]
  },
  {
   "cell_type": "markdown",
   "id": "9bdb6d73-d97b-4565-937c-09d8a118ee0f",
   "metadata": {},
   "source": [
    "## Filter"
   ]
  },
  {
   "cell_type": "markdown",
   "id": "00092870-e414-4ddd-b19a-57c7bc5d2791",
   "metadata": {},
   "source": [
    "The 'filter( )' function in python is used to construct an iterator from elements of an iterable for which a function returns true. Esssentially, it filters elements based on given condition.The syntax of 'filter( )' is 'filter(function,interable)'."
   ]
  },
  {
   "cell_type": "code",
   "execution_count": 41,
   "id": "226d6d3d-3493-47a1-9f60-0bc6b312b06d",
   "metadata": {},
   "outputs": [
    {
     "name": "stdout",
     "output_type": "stream",
     "text": [
      "[1, 3, 5, 7, 9]\n"
     ]
    }
   ],
   "source": [
    "nums=[1,2,3,4,5,6,7,8,9,10]\n",
    "even_num =[n for n in nums if n%2!=0]\n",
    "filter_even = list(filter(lambda x:x in even_num,nums))\n",
    "print(filter_even)"
   ]
  },
  {
   "cell_type": "code",
   "execution_count": 37,
   "id": "0b56cfb6-dd00-4c5a-803e-c7fc73858373",
   "metadata": {},
   "outputs": [
    {
     "name": "stdout",
     "output_type": "stream",
     "text": [
      "[2, 4, 6, 8, 10]\n"
     ]
    }
   ],
   "source": [
    "nums=[1,2,3,4,5,6,7,8,9,10]\n",
    "even_num =[n for n in nums if n%2==0]\n",
    "filter_even = list(filter(lambda x:x in even_num,nums))\n",
    "print(filter_even)"
   ]
  },
  {
   "cell_type": "code",
   "execution_count": 40,
   "id": "79badd89-399e-47b5-83d2-c52a8770cd23",
   "metadata": {},
   "outputs": [
    {
     "name": "stdout",
     "output_type": "stream",
     "text": [
      "['apple']\n"
     ]
    }
   ],
   "source": [
    "fruits = [\"apple\", \"banana\", \"grape\", \"orange\", \"kiwi\", \"watermelon\"]\n",
    "filtered_fruits = list(filter(lambda x: x.startswith(\"a\"), fruits))\n",
    "print(filtered_fruits)"
   ]
  },
  {
   "cell_type": "code",
   "execution_count": 53,
   "id": "42222880-ecc6-47aa-8da5-1be67a6711b4",
   "metadata": {},
   "outputs": [
    {
     "name": "stdout",
     "output_type": "stream",
     "text": [
      "[2, 3, 5, 7]\n"
     ]
    }
   ],
   "source": [
    "nums=[1,2,3,4,5,6,7,8,9,10]\n",
    "filter_prime = list(filter(lambda x:x>1 and all(x%i != 0 for i in range(2,int(x**0.5)+1)),nums))\n",
    "print(filter_prime)"
   ]
  },
  {
   "cell_type": "code",
   "execution_count": 61,
   "id": "028e1833-bb8a-473c-869d-2afaf8dd11a2",
   "metadata": {},
   "outputs": [
    {
     "name": "stdout",
     "output_type": "stream",
     "text": [
      "[1, 2, 4, 5, 6, 8, 10]\n"
     ]
    }
   ],
   "source": [
    "num=[1,2,None,4,5,6,None,8,None,10]\n",
    "remove_none = list(filter(None,num))\n",
    "print(remove_none)"
   ]
  },
  {
   "cell_type": "code",
   "execution_count": 63,
   "id": "1c78dbe6-e027-456a-ae63-dafce28f449a",
   "metadata": {},
   "outputs": [
    {
     "name": "stdout",
     "output_type": "stream",
     "text": [
      "['banana', 'orange', 'watermelon']\n"
     ]
    }
   ],
   "source": [
    "fruits = [\"apple\", \"banana\", \"grape\", \"orange\", \"kiwi\", \"watermelon\"]\n",
    "filter_word = list(filter(lambda x:len(x)>5,fruits))\n",
    "print(filter_word)"
   ]
  },
  {
   "cell_type": "code",
   "execution_count": 64,
   "id": "233db6da-fb48-4d9e-829b-b923287e2d45",
   "metadata": {},
   "outputs": [
    {
     "name": "stdout",
     "output_type": "stream",
     "text": [
      "[6, 7, 8, 9, 10]\n"
     ]
    }
   ],
   "source": [
    "nums=[1,2,3,4,5,6,7,8,9,10]\n",
    "threshold = 5\n",
    "select_value = list(filter(lambda x:x>threshold,nums))\n",
    "print(select_value)"
   ]
  },
  {
   "cell_type": "markdown",
   "id": "ffddf25b-9e67-4b74-bb18-dec385af94aa",
   "metadata": {},
   "source": [
    "## Recursion"
   ]
  },
  {
   "cell_type": "markdown",
   "id": "a463a730-7c2d-4cb8-9bc8-93fbf4410f30",
   "metadata": {},
   "source": [
    "Recursion is a programming technique where a funciton calls itself in order to solve the problem. In python, recursion allows funtions to call themselves with smaller instances of the same problem until a base case is reached, which is a collection where the function returns value without making any further recursive calls.\n",
    "\n",
    "Recursion differs from iteration in that iteraion involves executing a set of instructions repeatedly until a certain condition  is met, without calling the function itself.It typically involves loops like 'for' and 'while' loops to iterate over a sequance or perform a certain operation a specified number of times."
   ]
  },
  {
   "cell_type": "code",
   "execution_count": 1,
   "id": "160e42e4-26fc-41b8-9a1e-665a769365af",
   "metadata": {},
   "outputs": [],
   "source": [
    "def factorial(n):\n",
    "    result = 1\n",
    "    for i in range(1,n+1):\n",
    "        result *= i\n",
    "    return result"
   ]
  },
  {
   "cell_type": "code",
   "execution_count": 2,
   "id": "105d198a-203f-4658-a267-11c0d35ef532",
   "metadata": {},
   "outputs": [
    {
     "data": {
      "text/plain": [
       "120"
      ]
     },
     "execution_count": 2,
     "metadata": {},
     "output_type": "execute_result"
    }
   ],
   "source": [
    "factorial(5)"
   ]
  },
  {
   "cell_type": "code",
   "execution_count": 7,
   "id": "ec2e5883-92e2-4f87-bfb0-996d58fe0bfb",
   "metadata": {},
   "outputs": [
    {
     "name": "stdout",
     "output_type": "stream",
     "text": [
      "The 20 th Fibonacci number is: 6765\n"
     ]
    }
   ],
   "source": [
    "def fib_num(n):\n",
    "    if n <= 1:\n",
    "        return n\n",
    "    else:\n",
    "        return fib_num(n-1)+fib_num(n-2)\n",
    "n = 20\n",
    "print(\"The\", n, \"th Fibonacci number is:\", fib_num(n))"
   ]
  },
  {
   "cell_type": "code",
   "execution_count": 19,
   "id": "91bed3c8-b49e-4548-8f03-78e97d8d47b0",
   "metadata": {},
   "outputs": [
    {
     "name": "stdout",
     "output_type": "stream",
     "text": [
      "20\n"
     ]
    }
   ],
   "source": [
    "def sum_of_all(l):\n",
    "    total = 0\n",
    "    for i in l:\n",
    "        total += i+1 \n",
    "    return total\n",
    "l =  [1,2,3,4,5]\n",
    "print(sum_of_all(l))"
   ]
  },
  {
   "cell_type": "markdown",
   "id": "1c00ddf8-02d1-47e6-beec-864a64b72182",
   "metadata": {},
   "source": [
    "To prevent a recursive function from running indefinitely and causing a stack flow error, we need to ensure that there is termination condition, commonly known as base case.The base case specifies a condition under which the function stops calling itself recursively and returns a result."
   ]
  },
  {
   "cell_type": "code",
   "execution_count": 28,
   "id": "a9898e6b-db4f-4a49-8f5f-66c926a02f0d",
   "metadata": {},
   "outputs": [],
   "source": [
    "def gcd(a,b):\n",
    "    if b== 0 :\n",
    "        return a\n",
    "    else:\n",
    "        return gcd(a,a%b)"
   ]
  },
  {
   "cell_type": "code",
   "execution_count": 29,
   "id": "9dfd5810-a0ad-43bd-9db5-62b84a224537",
   "metadata": {},
   "outputs": [
    {
     "data": {
      "text/plain": [
       "18"
      ]
     },
     "execution_count": 29,
     "metadata": {},
     "output_type": "execute_result"
    }
   ],
   "source": [
    "gcd(18,48)"
   ]
  },
  {
   "cell_type": "code",
   "execution_count": 32,
   "id": "ea99eccd-3108-483b-b90b-741b218cc35c",
   "metadata": {},
   "outputs": [],
   "source": [
    "def rev_str(s):\n",
    "    if len(s)<=1:\n",
    "        return s\n",
    "    else:\n",
    "        return rev_str(s[1:])+ s[0]"
   ]
  },
  {
   "cell_type": "code",
   "execution_count": 33,
   "id": "a825b570-6efd-45cc-9d5a-0c5e4767cbf1",
   "metadata": {},
   "outputs": [
    {
     "data": {
      "text/plain": [
       "'sllikswP'"
      ]
     },
     "execution_count": 33,
     "metadata": {},
     "output_type": "execute_result"
    }
   ],
   "source": [
    "rev_str(\"Pwskills\")"
   ]
  },
  {
   "cell_type": "code",
   "execution_count": 37,
   "id": "bf47db4f-b8ff-4ef4-92ca-2a0039d82889",
   "metadata": {},
   "outputs": [],
   "source": [
    "def power(x,n):\n",
    "    if n == 0:\n",
    "        return 1\n",
    "    elif n <0:\n",
    "        return 1/ power(x,-n)\n",
    "    else:\n",
    "        return x*power(x,n-1)\n"
   ]
  },
  {
   "cell_type": "code",
   "execution_count": 38,
   "id": "dbb0fa34-7c10-4d05-bbc5-3a9660e35bd3",
   "metadata": {},
   "outputs": [
    {
     "data": {
      "text/plain": [
       "32"
      ]
     },
     "execution_count": 38,
     "metadata": {},
     "output_type": "execute_result"
    }
   ],
   "source": [
    "power(2,5)"
   ]
  },
  {
   "cell_type": "code",
   "execution_count": 47,
   "id": "3aa44b54-fd36-4fb8-8f77-fc9c06e787f2",
   "metadata": {},
   "outputs": [],
   "source": [
    "def permutations(s):\n",
    "    if len(s) == 1:\n",
    "        return[s]\n",
    "    permutation = []\n",
    "    for i, char in enumerate(s):\n",
    "        remaining_chars = s[:i] + s[i+1:]\n",
    "        remaining_permutations = permutations(remaining_chars)\n",
    "        for perm in remaining_permutations:\n",
    "            permutation.append(char + perm)\n",
    "    return permutation"
   ]
  },
  {
   "cell_type": "code",
   "execution_count": 48,
   "id": "670ed05a-02b4-4287-b57b-cc3ae1d9ed3d",
   "metadata": {},
   "outputs": [
    {
     "data": {
      "text/plain": [
       "['abc', 'acb', 'bac', 'bca', 'cab', 'cba']"
      ]
     },
     "execution_count": 48,
     "metadata": {},
     "output_type": "execute_result"
    }
   ],
   "source": [
    "permutations('abc')"
   ]
  },
  {
   "cell_type": "code",
   "execution_count": 49,
   "id": "15362284-9f29-48f7-83ee-81c2daa75251",
   "metadata": {},
   "outputs": [],
   "source": [
    "def palindrome(s):\n",
    "    if len(s) <= 1:\n",
    "        return True\n",
    "    elif s[0] != s[-1]:\n",
    "        return False\n",
    "    else:\n",
    "        return palindrome(s[1:-1])"
   ]
  },
  {
   "cell_type": "code",
   "execution_count": 50,
   "id": "3ea69937-2ef8-428a-a3be-4c44645dc643",
   "metadata": {},
   "outputs": [
    {
     "data": {
      "text/plain": [
       "True"
      ]
     },
     "execution_count": 50,
     "metadata": {},
     "output_type": "execute_result"
    }
   ],
   "source": [
    "palindrome(\"radar\")"
   ]
  },
  {
   "cell_type": "code",
   "execution_count": 51,
   "id": "47747387-2156-4de7-b024-b59c7f38d95d",
   "metadata": {},
   "outputs": [
    {
     "data": {
      "text/plain": [
       "False"
      ]
     },
     "execution_count": 51,
     "metadata": {},
     "output_type": "execute_result"
    }
   ],
   "source": [
    "palindrome(\"pwskills\")"
   ]
  },
  {
   "cell_type": "code",
   "execution_count": 52,
   "id": "cef86201-8089-4849-8d8e-2bdb9d36fa08",
   "metadata": {},
   "outputs": [],
   "source": [
    "def combinations(n , k):\n",
    "    if k == 0:\n",
    "        return [[]]\n",
    "    combination = []\n",
    "    for i in range(len(n)):\n",
    "        current_elements = n[i]\n",
    "        remain_elements = n[i+1:]\n",
    "        for combo in combinations(remain_elements, k-1):\n",
    "            combination.append([current_elements] + combo)\n",
    "    return combination"
   ]
  },
  {
   "cell_type": "code",
   "execution_count": 53,
   "id": "d77de262-019f-4609-80f9-117f8fed4490",
   "metadata": {},
   "outputs": [],
   "source": [
    "l = [1,5,9,3,7,6,4,2]\n",
    "k = 2"
   ]
  },
  {
   "cell_type": "code",
   "execution_count": 54,
   "id": "35dd46e7-e76d-4f3b-9900-fc690b4553a2",
   "metadata": {},
   "outputs": [
    {
     "data": {
      "text/plain": [
       "[[1, 5],\n",
       " [1, 9],\n",
       " [1, 3],\n",
       " [1, 7],\n",
       " [1, 6],\n",
       " [1, 4],\n",
       " [1, 2],\n",
       " [5, 9],\n",
       " [5, 3],\n",
       " [5, 7],\n",
       " [5, 6],\n",
       " [5, 4],\n",
       " [5, 2],\n",
       " [9, 3],\n",
       " [9, 7],\n",
       " [9, 6],\n",
       " [9, 4],\n",
       " [9, 2],\n",
       " [3, 7],\n",
       " [3, 6],\n",
       " [3, 4],\n",
       " [3, 2],\n",
       " [7, 6],\n",
       " [7, 4],\n",
       " [7, 2],\n",
       " [6, 4],\n",
       " [6, 2],\n",
       " [4, 2]]"
      ]
     },
     "execution_count": 54,
     "metadata": {},
     "output_type": "execute_result"
    }
   ],
   "source": [
    "combinations(l,k)"
   ]
  },
  {
   "cell_type": "markdown",
   "id": "ccee2695-53e1-423e-ab44-8fd1965db85d",
   "metadata": {},
   "source": [
    "## Basics of Functions"
   ]
  },
  {
   "cell_type": "markdown",
   "id": "57170de4-219e-4c74-b5df-f6c882d7cd83",
   "metadata": {},
   "source": [
    "In Python, a function is a block of organized, reusable code that performs a specific task. Functions provide modularity and abstraction, allowing you to break down complex tasks into smaller, manageable units. They help in structuring programs, promoting code reuse, and improving readability.\n",
    "\n",
    "Functions in Python are defined using the def keyword followed by the function name, parentheses (), and optionally parameters or arguments within the parentheses. The function body is then indented below the def statement."
   ]
  },
  {
   "cell_type": "code",
   "execution_count": 58,
   "id": "a52891b8-1230-4e14-b06b-047943dfeaf2",
   "metadata": {},
   "outputs": [
    {
     "name": "stdout",
     "output_type": "stream",
     "text": [
      "Hello, Vishal !!!\n"
     ]
    }
   ],
   "source": [
    "def greet(name):\n",
    "    print(\"Hello, \" + name + \" !!!\")\n",
    "greet(\"Vishal\")"
   ]
  },
  {
   "cell_type": "markdown",
   "id": "fc621479-17e1-4700-89a3-ce65589933c5",
   "metadata": {},
   "source": [
    "In this example, greet is the function name, and it takes one parameter name. When the function is called with an argument \"Alice\", it prints \"Hello, Alice!\"."
   ]
  },
  {
   "cell_type": "markdown",
   "id": "3773ecfc-ad90-44de-a170-1f2ae5699253",
   "metadata": {},
   "source": [
    "Function Definition:\n",
    "\n",
    "A funcion definition is the process of creating a function in python. It specifying the name of the function, it's parameters, and the code block that defines the behavior of function.\n",
    "\n",
    "Function Call:\n",
    "\n",
    "A function call is the process of invoking or executing a function that has been defined previously. It using the function name along with required arguments or parameters to trigger the execution of the function code."
   ]
  },
  {
   "cell_type": "code",
   "execution_count": 1,
   "id": "7e4ec929-ed34-4a1b-bdfb-717d283f3202",
   "metadata": {},
   "outputs": [],
   "source": [
    "def summetion(a,b):\n",
    "    return a+b"
   ]
  },
  {
   "cell_type": "code",
   "execution_count": 2,
   "id": "c773eb10-f70d-4441-8bb2-c983c2faa996",
   "metadata": {},
   "outputs": [
    {
     "data": {
      "text/plain": [
       "7"
      ]
     },
     "execution_count": 2,
     "metadata": {},
     "output_type": "execute_result"
    }
   ],
   "source": [
    "summetion(3,4)"
   ]
  },
  {
   "cell_type": "markdown",
   "id": "3df28706-9096-4ea0-a6b3-6ad2040c902a",
   "metadata": {},
   "source": [
    "A function signature, also known as a function prototype or function interface, provides essential information about a function's declaration, including its name, parameters, return type, and possibly it access level(Public, private, protected). it serves as blueprint for the function, describing how it can be called and what it returns, without necessarily provding the implementation details. "
   ]
  },
  {
   "cell_type": "code",
   "execution_count": 3,
   "id": "a7d2da40-6146-4f0a-8a8f-9cc1782bb933",
   "metadata": {},
   "outputs": [],
   "source": [
    "def prod(x,y):\n",
    "    return x*y"
   ]
  },
  {
   "cell_type": "code",
   "execution_count": 5,
   "id": "678d8b7d-6dd6-4d91-872d-6bda082fc4f3",
   "metadata": {},
   "outputs": [
    {
     "data": {
      "text/plain": [
       "120"
      ]
     },
     "execution_count": 5,
     "metadata": {},
     "output_type": "execute_result"
    }
   ],
   "source": [
    "prod(12,10)"
   ]
  },
  {
   "cell_type": "markdown",
   "id": "45b38ff4-7ed8-44e4-b80b-e90f507882ef",
   "metadata": {},
   "source": [
    "In python functions, the concepts of formal parameters and actual arguments relate to how data is passed into a function and how it's received and processed within function.\n",
    "\n",
    "Formal Parameters:\n",
    "\n",
    "Formal parameters are the placeholders used in the function definition to represent the data that will be passed into the function when it is called.\n",
    "These parameters are defined in the function header and act as variable that store the values passed to the function.\n",
    "Formal parameters serve as refrences to the actual data that will be operated on within the function.\n",
    "They are essentially the names used within the function to refer to the values provided by the caller.\n",
    "\n",
    "Actual arguments:\n",
    "\n",
    "Actual arguments also known as arguments or parameters, are the values provided to function when it is called.\n",
    "These are the real data that are passed into the function and will be assigned to the formal parameters defined in the function header.\n",
    "Actual argument can be constants, variables, expressions or even the result of other function calls.\n",
    "They supply by the caller of the function and can vary each time the function is called, allowing for flexibility and reusebility of the function."
   ]
  },
  {
   "cell_type": "markdown",
   "id": "e5887c03-e7d6-438e-b60b-a75347c8ae47",
   "metadata": {},
   "source": [
    "Q: 3. How do you use keyword arguments in Python function calls? Provide an example."
   ]
  },
  {
   "cell_type": "markdown",
   "id": "b027d7af-e832-420d-b025-5e41d119d8c1",
   "metadata": {},
   "source": [
    "In python, keyword arguments allow you to specify arguments their parameter names when calling a function, rather than relying on the order in which they are defined in the function signature.This provides clearity and flexibility, especially when dealing with function that have many parameters.\n",
    "example is given below"
   ]
  },
  {
   "cell_type": "code",
   "execution_count": 9,
   "id": "676c8b0c-be14-4130-8cf4-a01c8da4b050",
   "metadata": {},
   "outputs": [
    {
     "name": "stdout",
     "output_type": "stream",
     "text": [
      "Hello, jack! How are you?\n",
      "Hello, tom! Nice to meet you!\n"
     ]
    }
   ],
   "source": [
    "def greet(name,message):\n",
    "    print(f\"Hello, {name}! {message}\")\n",
    "    \n",
    "greet(message=\"How are you?\", name=\"jack\")\n",
    "greet(\"tom\", message=\"Nice to meet you!\")"
   ]
  },
  {
   "cell_type": "code",
   "execution_count": 12,
   "id": "541722eb-9276-4b66-8f9a-d7a974756cde",
   "metadata": {},
   "outputs": [
    {
     "name": "stdout",
     "output_type": "stream",
     "text": [
      "150\n"
     ]
    }
   ],
   "source": [
    "def calculate_sum(*args):\n",
    "    total_sum = 0\n",
    "    for n in args:\n",
    "        total_sum += n\n",
    "    return total_sum\n",
    "\n",
    "sum = calculate_sum(11,56,8,66,9)\n",
    "print(sum)"
   ]
  },
  {
   "cell_type": "markdown",
   "id": "05e3c01e-ad95-41bf-89f3-56abcc839ea0",
   "metadata": {},
   "source": [
    "The *args and **kwargs syntax in function parameter lists in Python serve the purpose of allowing functions to accept a variable number of arguments, both positional and keyword arguments, respectively.\n",
    "\n",
    "1. '*args' (Arbitrary Positional Arguments):\n",
    "\r\n",
    "The *args syntax allows a function to accept an arbitrary number of positional arguments.\r\n",
    "When *args is used in a function parameter list, it collects all additional positional arguments passed to the function into a tuple.\r\n",
    "This is particularly useful when you want to create a function that can accept any number of arguments without explicitly specifying them in the function signat\n",
    "\n",
    "2. **kwargs (Arbitrary Keyword Arguments):\n",
    "\r\n",
    "The **kwargs syntax allows a function to accept an arbitrary number of keyword arguments.\r\n",
    "When **kwargs is used in a function parameter list, it collects all additional keyword arguments passed to the function into a dictionary, where the keys are the argument names and the values are the corresponding values.\r\n",
    "This is useful when you want to create a function that can accept any number of keyword arguments without explicitly specifying them in the function signature.ure."
   ]
  },
  {
   "cell_type": "code",
   "execution_count": 15,
   "id": "3c9c5ed7-72d7-4fe0-b746-8fcfd9ee6e36",
   "metadata": {},
   "outputs": [
    {
     "name": "stdout",
     "output_type": "stream",
     "text": [
      "Positional arguments (*args): (1, 2, 3)\n",
      "Keyword arguments (**kwargs): {'name': 'John', 'age': 30}\n"
     ]
    }
   ],
   "source": [
    "def example_function(*args, **kwargs):\n",
    "    print(\"Positional arguments (*args):\", args)\n",
    "    print(\"Keyword arguments (**kwargs):\", kwargs)\n",
    "example_function(1, 2, 3, name=\"John\", age=30)"
   ]
  },
  {
   "cell_type": "markdown",
   "id": "e93962ee-4767-4c35-9761-ec2ce2982f0d",
   "metadata": {},
   "source": [
    "## Return Values and Scoping:"
   ]
  },
  {
   "cell_type": "markdown",
   "id": "38dcf70f-4ccc-42e9-b3d8-5dad8c385ba8",
   "metadata": {},
   "source": [
    "The return statement in Python functions serves the purpose of exiting the function and returning a value (or values) to the caller. When a 'return' statement is encountered within a function, the function execution stops, and control is passed back to the caller. It is used to pass data back from the function to the calling code."
   ]
  },
  {
   "cell_type": "code",
   "execution_count": 17,
   "id": "8d905b1a-13c7-46cb-8a3b-b171848ec705",
   "metadata": {},
   "outputs": [
    {
     "name": "stdout",
     "output_type": "stream",
     "text": [
      "Sum: 8\n"
     ]
    }
   ],
   "source": [
    "def add_numbers(x, y):\n",
    "    return x + y\n",
    "result = add_numbers(3, 5)\n",
    "print(\"Sum:\", result)"
   ]
  },
  {
   "cell_type": "markdown",
   "id": "0e0401e6-17c9-4564-8d22-097bedc8c2a3",
   "metadata": {},
   "source": [
    "Variable scope in Python refers to the visibility and accessibility of variables within different parts of a program. Understanding variable scope is crucial for writing maintainable and bug-free code. In Python, variables can have either local or global scope.\n",
    "\n",
    "1.Local Variables:\r\n",
    "Local variables are defined within a function and can only be accessed from within that function.\r\n",
    "They are created when the function is called and are destroyed when the function exits.\r\n",
    "Local variables cannot be accessed from outside the function in which they are defined.\r\n",
    "If a variable is assigned a value within a function without being declared as global, it is assumed to be a local varia\n",
    "\n",
    "2.Global Variables:\r\n",
    "Global variables are defined outside of any function and can be accessed from anywhere within the program, including inside functions.\r\n",
    "They remain in memory throughout the lifetime of the program.\r\n",
    "If you want to modify a global variable from within a function, you need to explicitly declare it as global using the global keyword.ble."
   ]
  },
  {
   "cell_type": "code",
   "execution_count": 20,
   "id": "52b440a0-93c3-4027-9746-e1599766f71d",
   "metadata": {},
   "outputs": [
    {
     "name": "stdout",
     "output_type": "stream",
     "text": [
      "Inside the function: 10\n"
     ]
    }
   ],
   "source": [
    "def my_function():\n",
    "    x = 10  # Local variable\n",
    "    print(\"Inside the function:\", x)\n",
    "my_function()"
   ]
  },
  {
   "cell_type": "code",
   "execution_count": 22,
   "id": "19cb29aa-4d77-481d-9f99-8929c36f2a06",
   "metadata": {},
   "outputs": [
    {
     "name": "stdout",
     "output_type": "stream",
     "text": [
      "Inside the function: 20\n",
      "Outside the function: 20\n",
      "Modified global variable: 30\n"
     ]
    }
   ],
   "source": [
    "y = 20  # Global variable\n",
    "\n",
    "def another_function():\n",
    "    print(\"Inside the function:\", y)\n",
    "\n",
    "another_function()\n",
    "print(\"Outside the function:\", y)\n",
    "\n",
    "def modify_global():\n",
    "    global y\n",
    "    y = 30\n",
    "\n",
    "modify_global()\n",
    "print(\"Modified global variable:\", y)"
   ]
  },
  {
   "cell_type": "code",
   "execution_count": 23,
   "id": "7fca30bb-78f9-4cc5-9afd-f0ccbcd7209f",
   "metadata": {},
   "outputs": [
    {
     "data": {
      "text/plain": [
       "24"
      ]
     },
     "execution_count": 23,
     "metadata": {},
     "output_type": "execute_result"
    }
   ],
   "source": [
    "def factorial(n):\n",
    "    if n==0:\n",
    "        return 1\n",
    "    else:\n",
    "        return n*factorial(n-1)\n",
    "\n",
    "factorial(4)"
   ]
  },
  {
   "cell_type": "markdown",
   "id": "cdd319b6-360b-4f0a-991c-2d1cdfdb33ac",
   "metadata": {},
   "source": [
    "In Python, you can access variables defined outside a function from within the function by using the global keyword or by directly referencing the variable name. However, if you intend to modify the value of the variable from within the function, you need to explicitly declare the variable as global using the global keyword."
   ]
  },
  {
   "cell_type": "code",
   "execution_count": 27,
   "id": "ddb78773-d57d-4691-96c7-6eb6a058b307",
   "metadata": {},
   "outputs": [
    {
     "name": "stdout",
     "output_type": "stream",
     "text": [
      "Global variable (accessed directly): 10\n"
     ]
    }
   ],
   "source": [
    "# Global variable\n",
    "global_variable = 10\n",
    "def access_global_variable():  # Accessing the global variable directly\n",
    "    print(\"Global variable (accessed directly):\", global_variable)    \n",
    "access_global_variable()"
   ]
  },
  {
   "cell_type": "markdown",
   "id": "219a8665-4d50-4398-907b-7524714a9895",
   "metadata": {},
   "source": [
    "## Lambda function and Higher order function"
   ]
  },
  {
   "cell_type": "markdown",
   "id": "979140f6-5ad0-407f-92d3-8d12e42b2b16",
   "metadata": {},
   "source": [
    "In Python, a lambda function is a small anonymous function defined using the lambda keyword. Lambda functions can take any number of arguments, but can only have one expression. They are often used when you need a simple function for a short period of time and don't want to formally define a function using the def keyword.\n",
    "\n",
    "Lambda functions are typically used in scenarios where you need to pass a function as an argument to higher-order functions (functions that take other functions as arguments) such as map(), filter(), and sorted(). They are also commonly used in conjunction with functions like reduce() from the functools module, and in sorting or key extraction tasks"
   ]
  },
  {
   "cell_type": "code",
   "execution_count": 10,
   "id": "2cfa4791-4c19-4f5c-8fa6-7f342140bf0a",
   "metadata": {},
   "outputs": [
    {
     "name": "stdout",
     "output_type": "stream",
     "text": [
      "[(4, 1), (3, 2), (1, 5), (2, 8)]\n"
     ]
    }
   ],
   "source": [
    "data = [(1, 5), (3, 2), (2, 8), (4, 1)]\n",
    "sorted_data = sorted(data, key=lambda x:x[1])\n",
    "print(sorted_data)"
   ]
  },
  {
   "cell_type": "markdown",
   "id": "6c22f8f8-e6b4-4315-81d0-a3c01b0706c8",
   "metadata": {},
   "source": [
    "In Python, functions are first-class citizens, meaning they can be treated as any other object. This allows for the concept of higher-order functions, which are functions that can take other functions as arguments and/or return functions as results.\n",
    "\n",
    "1.Funtions as arguments: Higher-order functions can take other function as arguments. This enables functions to be customized or extended by passing different functions as arguments. These functions can be defined using the \"def\" keyword or created on the fly using lambda function.\n",
    "\n",
    "2.Functions as Return Values: Higher-order functions can also return functionsas results. This allowsfor the creation of specialized functions or closures based on the input parameters of the higher-order function."
   ]
  },
  {
   "cell_type": "code",
   "execution_count": 11,
   "id": "e6d34b03-d8c1-4642-9f56-4daeb9457078",
   "metadata": {},
   "outputs": [
    {
     "name": "stdout",
     "output_type": "stream",
     "text": [
      "Addition 7\n",
      "Multiplication 15\n"
     ]
    }
   ],
   "source": [
    "def operations(operation, x,y):\n",
    "    return operation(x,y)\n",
    "\n",
    "# Define some operations as functions\n",
    "def add(x,y):\n",
    "    return x+y\n",
    "\n",
    "def multiply(x,y):\n",
    "    return x*y\n",
    "\n",
    "result1 = operations(add,3,4)\n",
    "result2 = operations(multiply,3,5)\n",
    "\n",
    "print(\"Addition\",result1)\n",
    "print(\"Multiplication\",result2)"
   ]
  },
  {
   "cell_type": "code",
   "execution_count": 12,
   "id": "f85909ad-e493-4291-a7d5-b96b128badac",
   "metadata": {},
   "outputs": [
    {
     "name": "stdout",
     "output_type": "stream",
     "text": [
      "Result after applying square function: [1, 4, 9, 16, 25]\n"
     ]
    }
   ],
   "source": [
    "def apply_function_to_list(lst, func):\n",
    "    return [func(x) for x in lst]\n",
    "def square(x):\n",
    "    return x ** 2\n",
    "numbers = [1, 2, 3, 4, 5]\n",
    "result = apply_function_to_list(numbers, square)\n",
    "print(\"Result after applying square function:\", result)"
   ]
  },
  {
   "cell_type": "markdown",
   "id": "07cf6abf-2c75-4ec2-995e-d2664e9de3c5",
   "metadata": {},
   "source": [
    "## Built-in Functions"
   ]
  },
  {
   "cell_type": "markdown",
   "id": "6b0d54c5-cd24-49f3-87f7-e9a8e476e1e8",
   "metadata": {},
   "source": [
    "1.len(): This function returns the length (the number of items) of an object. It's commonly used to determine the size of data structures such as lists, tuples, strings, dictionaries, and sets.\n",
    "\n",
    "2.max(): This function returns the largest item in an iterable or the largest of two or more arguments. It's commonly used to find the maximum value in a sequence of numbers.\n",
    "\n",
    "3.min(): This function returns the smallest item in an iterable or the smallest of two or more arguments. It's commonly used to find the minimum value in a sequence of numbers."
   ]
  },
  {
   "cell_type": "code",
   "execution_count": 6,
   "id": "69ccc0bd-37ed-4db3-a356-a300cfcc48d0",
   "metadata": {},
   "outputs": [],
   "source": [
    "def odd(n):\n",
    "    if n%2 !=0:\n",
    "        return \"odd\"\n",
    "    else:\n",
    "        return \"Even\""
   ]
  },
  {
   "cell_type": "code",
   "execution_count": 9,
   "id": "b034bc9e-1592-4aed-a41e-6b0f019bb552",
   "metadata": {},
   "outputs": [
    {
     "name": "stdout",
     "output_type": "stream",
     "text": [
      "['odd', 'odd', 'odd', 'odd', 'odd', 'Even', 'Even', 'Even']\n"
     ]
    }
   ],
   "source": [
    "l = [1,5,9,3,7,6,4,2]\n",
    "result = list(map(odd,l))\n",
    "print(result)"
   ]
  },
  {
   "cell_type": "markdown",
   "id": "cd133858-db86-4ba7-a5e1-6e8f4f0faa38",
   "metadata": {},
   "source": [
    "The filter() function in Python is used to filter elements from an iterable (such as a list, tuple, or set) based on a given function. It returns an iterator that yields the elements from the iterable for which the function returns True.\n",
    "we would use the filter() function when you need to selectively extract elements from an iterable based on some condition defined by a function. It provides a concise and readable way to perform filtering operations in Python.\n",
    "\n",
    "Here's how the filter() function works:\r",
    "It takes two arguments: the first argument is the function that defines the filtering criteria, and the second argument is the iterable from which elements are to be filtered.The function provived to \"filter()\" should accept a single argument and return either \"True\" or \"False\" based on whether the element should be included on the filtered result. \"filter()\" iterates over each element in the iterable and applies the provided function to it. if the function returns \"True\", the element is included in the output.otherwise it is excluded.The output of \"filter()\" is an iterator containing the filtered elements.\r\n",
    "\n",
    "\r\n",
    "\r\n",
    "\r\n"
   ]
  },
  {
   "cell_type": "code",
   "execution_count": 14,
   "id": "b7964c79-9777-4c0c-8ce9-ea741700e3f3",
   "metadata": {},
   "outputs": [
    {
     "name": "stdout",
     "output_type": "stream",
     "text": [
      "45360\n"
     ]
    }
   ],
   "source": [
    "from functools import reduce\n",
    "def multply(x,y):\n",
    "    return x*y\n",
    "l = [1,5,9,3,7,6,4,2]\n",
    "product = reduce(multply,l)\n",
    "print(product)"
   ]
  },
  {
   "cell_type": "markdown",
   "id": "d632c616-59cd-4a97-b8e2-db54443cdc1d",
   "metadata": {},
   "source": [
    "## Function Documentation and Best Practices"
   ]
  },
  {
   "cell_type": "markdown",
   "id": "b11ad2a1-f17c-4408-9840-997e8f0a4cca",
   "metadata": {},
   "source": [
    "Docstrings, short for \"documentation strings,\" serve the purpose of providing documentation and information about a Python function, class, module, or package. They are used to describe what the function does, its parameters, return values, and any other relevant information. Docstrings are particularly useful for helping other developers understand how to use your code and for generating documentation automatically using tools like Sphinx.\n",
    "\n",
    "Here are the key purposes of docstrings:\r\n",
    "1.Documentation: Docstrings serve as a form of inline documentation, providing information about the purpose and usage of the function. They help developers understand how to use the function correctly and what it is intended to accomplish\n",
    "2.Readability: Well-written docstrings enhance the readability of code by providing context and explanations directly within the code itself. This can make it easier for developers to understand and maintain the codebase.\n",
    "3.Automatic Documentation Generation: Docstrings can be extracted by documentation generation tools to produce documentation in various formats such as HTML, PDF, or plain text. This allows for the automatic generation of documentation from the codebase.\n",
    "\n",
    "To write a docstring for a Python function, you simply place a string literal as the first statement in the function's body. This string serves as the docstring. Here's an example of how to write a docstring:n\n",
    "\r\n"
   ]
  },
  {
   "cell_type": "code",
   "execution_count": 16,
   "id": "a3f7c477-e38f-474a-bf80-17f6d67fb346",
   "metadata": {},
   "outputs": [],
   "source": [
    "def add(x, y):\n",
    "    \"\"\"\n",
    "    This function takes two numbers as input and returns their sum.\n",
    "\n",
    "    Parameters:\n",
    "    x (int): The first number.\n",
    "    y (int): The second number.\n",
    "\n",
    "    Returns:\n",
    "    int: The sum of x and y.\n",
    "    \"\"\"\n",
    "    return x + y"
   ]
  },
  {
   "cell_type": "markdown",
   "id": "e8b0a288-012d-4b9b-96a9-ae49004ca020",
   "metadata": {},
   "source": [
    "Naming Functions:\n",
    "\n",
    "1.Use Descriptive Names: Choose meaningful names that clearly indicate the purpose or functionality of the function. This improves readability and understanding of the code.\n",
    "2.Use Lowercase with Underscores: Follow the snake_case naming convention for functions. Use lowercase letters and underscores to separate words in the function name\n",
    "3.Avoid Abbreviations: Minimize the use of abbreviations in function names unless they are widely understood or standardized.\n",
    "4.Be Consistent: Maintain consistency in naming style across your codebase to make it easier for developers to understand and navigate."
   ]
  },
  {
   "cell_type": "markdown",
   "id": "7a3ba145-d90c-4557-a40d-de3b18da1594",
   "metadata": {},
   "source": [
    "Naming Variables:\n",
    "\n",
    "1.Be Descriptive: Use descriptive names that convey the purpose or meaning of the variable. Avoid single-letter variable names unless they represent common conventions like loop counters.\n",
    "2.Follow Lowercase with Underscores: Use snake_case for variable names, similar to function names. This convention is widely accepted in the Python community.\n",
    "3.Use Meaningful Names: Choose names that provide context about the data stored in the variable. This helps improve code clarity and maintainability.\n",
    "4.Avoid Reserved Keywords: Don't use reserved keywords as variable names. Choose alternative names that accurately represent the data being stored."
   ]
  },
  {
   "cell_type": "markdown",
   "id": "cc4b63f1-c47b-4e1c-b141-9dc8734982c7",
   "metadata": {},
   "source": [
    "General Guidelines:\n",
    "\n",
    "1.Follow PEP 8: Adhere to the PEP 8 style guide for Python code, which provides conventions for naming functions, variables, and other aspects of Python code.\n",
    "2.Use Verb-Noun Pairing: When naming functions, consider using a verb-noun pairing to describe the action performed by the function followed by the object it operates on.\n",
    "3.Avoid Ambiguity: Choose names that are unambiguous and avoid names that could be misinterpreted or confused with other entities in the code."
   ]
  }
 ],
 "metadata": {
  "kernelspec": {
   "display_name": "Python 3 (ipykernel)",
   "language": "python",
   "name": "python3"
  },
  "language_info": {
   "codemirror_mode": {
    "name": "ipython",
    "version": 3
   },
   "file_extension": ".py",
   "mimetype": "text/x-python",
   "name": "python",
   "nbconvert_exporter": "python",
   "pygments_lexer": "ipython3",
   "version": "3.11.7"
  }
 },
 "nbformat": 4,
 "nbformat_minor": 5
}
